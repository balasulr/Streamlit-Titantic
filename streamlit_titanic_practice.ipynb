{
 "cells": [
  {
   "cell_type": "markdown",
   "id": "5d36a8b8",
   "metadata": {},
   "source": [
    "## Practicing Streamlit using Titantic Dataset"
   ]
  },
  {
   "cell_type": "code",
   "execution_count": null,
   "id": "0c2af3db",
   "metadata": {},
   "outputs": [],
   "source": [
    "# If Streamlit isn't installed yet, run this in a terminal:\n",
    "! pip install streamlit\n",
    "\n",
    "try:\n",
    "    import streamlit as st\n",
    "    print(\"Streamlit version:\", st.__version__)\n",
    "except Exception:\n",
    "    print(\"Streamlit not installed yet. Run: pip install streamlit\")"
   ]
  },
  {
   "cell_type": "code",
   "execution_count": null,
   "id": "685bed2a",
   "metadata": {},
   "outputs": [],
   "source": [
    "titanic_app = \"\"\"import streamlit as st\n",
    "import pandas as pd\n",
    "\n",
    "st.set_page_config(page_title=\"Explore Titantic dataset with Streamlit\", layout=\"wide\")\n",
    "\n",
    "st.title(\"Explore Titanic Dataset with Streamlit\")\n",
    "st.subheader(\"This Streamlit app explores the Titanic dataset to uncover survival insights and visualize passenger data\")\n",
    "\n",
    "# Load Titanic dataset from URL\n",
    "data_url = \"https://raw.githubusercontent.com/datasciencedojo/datasets/master/titanic.csv\"\n",
    "df = pd.read_csv(data_url)\n",
    "st.write(df)\n",
    "\n",
    "# See if have missing values\n",
    "st.subheader(\"Missing Values Overview\")\n",
    "missing_counts = df.isnull().sum()\n",
    "missing_percent = (missing_counts / len(df)) * 100\n",
    "missing_df = pd.DataFrame({\n",
    "    \"Missing Count\": missing_counts,\n",
    "    \"Missing %\": missing_percent\n",
    "})\n",
    "st.dataframe(missing_df[missing_df[\"Missing Count\"] > 0])\n",
    "\n",
    "st.write(\"There are missing values in the dataset\")\n",
    "\n",
    "\"\"\"\n",
    "with open(\"titanic_streamlit_app.py\", \"w\", encoding=\"utf-8\") as f:\n",
    "    f.write(titanic_app)\n",
    "print(\"Wrote titanic_streamlit_app.py\")\n",
    "print(\"Run it in a cell with: ! streamlit run titanic_streamlit_app.py\")"
   ]
  },
  {
   "cell_type": "code",
   "execution_count": null,
   "id": "e9453821",
   "metadata": {},
   "outputs": [],
   "source": [
    "! streamlit run titanic_streamlit_app.py"
   ]
  }
 ],
 "metadata": {
  "kernelspec": {
   "display_name": "ainlp311stream",
   "language": "python",
   "name": "python3"
  },
  "language_info": {
   "codemirror_mode": {
    "name": "ipython",
    "version": 3
   },
   "file_extension": ".py",
   "mimetype": "text/x-python",
   "name": "python",
   "nbconvert_exporter": "python",
   "pygments_lexer": "ipython3",
   "version": "3.11.14"
  }
 },
 "nbformat": 4,
 "nbformat_minor": 5
}

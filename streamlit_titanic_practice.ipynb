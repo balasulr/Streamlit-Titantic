{
 "cells": [
  {
   "cell_type": "markdown",
   "id": "5d36a8b8",
   "metadata": {},
   "source": [
    "## Practicing Streamlit using Titantic Dataset"
   ]
  },
  {
   "cell_type": "code",
   "execution_count": null,
   "id": "685bed2a",
   "metadata": {},
   "outputs": [],
   "source": [
    "titanic_app = \"\"\"import streamlit as st\n",
    "\n",
    "st.set_page_config(page_title=\"Explore Titantic dataset with Streamlit\", layout=\"wide\")\n",
    "\n",
    "st.title(\"st.title(\"Explore Titanic Dataset with Streamlit\")\n",
    "st.write(\"This Streamlit app explores the Titanic dataset to uncover survival insights and visualize passenger data.\")\n",
    "\"\"\"\n",
    "with open(\"titanic_streamlit_app.py\", \"w\", encoding=\"utf-8\") as f:\n",
    "    f.write(titanic_app)\n",
    "print(\"Wrote titanic_streamlit_app.py\")\n",
    "print(\"Run it with: streamlit run titanic_streamlit_app.py\")"
   ]
  }
 ],
 "metadata": {
  "kernelspec": {
   "display_name": "ainlp311stream",
   "language": "python",
   "name": "python3"
  },
  "language_info": {
   "codemirror_mode": {
    "name": "ipython",
    "version": 3
   },
   "file_extension": ".py",
   "mimetype": "text/x-python",
   "name": "python",
   "nbconvert_exporter": "python",
   "pygments_lexer": "ipython3",
   "version": "3.11.14"
  }
 },
 "nbformat": 4,
 "nbformat_minor": 5
}

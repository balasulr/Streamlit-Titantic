{
 "cells": [
  {
   "cell_type": "markdown",
   "id": "5d36a8b8",
   "metadata": {},
   "source": [
    "## Practicing Streamlit using Titantic Dataset"
   ]
  },
  {
   "cell_type": "code",
   "execution_count": 1,
   "id": "0c2af3db",
   "metadata": {},
   "outputs": [
    {
     "name": "stdout",
     "output_type": "stream",
     "text": [
      "Requirement already satisfied: streamlit in c:\\users\\lrb69\\anaconda3\\envs\\ainlp311stream\\lib\\site-packages (1.50.0)\n",
      "Requirement already satisfied: altair!=5.4.0,!=5.4.1,<6,>=4.0 in c:\\users\\lrb69\\anaconda3\\envs\\ainlp311stream\\lib\\site-packages (from streamlit) (5.5.0)\n",
      "Requirement already satisfied: blinker<2,>=1.5.0 in c:\\users\\lrb69\\anaconda3\\envs\\ainlp311stream\\lib\\site-packages (from streamlit) (1.9.0)\n",
      "Requirement already satisfied: cachetools<7,>=4.0 in c:\\users\\lrb69\\anaconda3\\envs\\ainlp311stream\\lib\\site-packages (from streamlit) (6.2.1)\n",
      "Requirement already satisfied: click<9,>=7.0 in c:\\users\\lrb69\\anaconda3\\envs\\ainlp311stream\\lib\\site-packages (from streamlit) (8.2.1)\n",
      "Requirement already satisfied: numpy<3,>=1.23 in c:\\users\\lrb69\\anaconda3\\envs\\ainlp311stream\\lib\\site-packages (from streamlit) (2.3.3)\n",
      "Requirement already satisfied: packaging<26,>=20 in c:\\users\\lrb69\\anaconda3\\envs\\ainlp311stream\\lib\\site-packages (from streamlit) (25.0)\n",
      "Requirement already satisfied: pandas<3,>=1.4.0 in c:\\users\\lrb69\\anaconda3\\envs\\ainlp311stream\\lib\\site-packages (from streamlit) (2.3.3)\n",
      "Requirement already satisfied: pillow<12,>=7.1.0 in c:\\users\\lrb69\\anaconda3\\envs\\ainlp311stream\\lib\\site-packages (from streamlit) (11.1.0)\n",
      "Requirement already satisfied: protobuf<7,>=3.20 in c:\\users\\lrb69\\anaconda3\\envs\\ainlp311stream\\lib\\site-packages (from streamlit) (6.33.0)\n",
      "Requirement already satisfied: pyarrow>=7.0 in c:\\users\\lrb69\\anaconda3\\envs\\ainlp311stream\\lib\\site-packages (from streamlit) (21.0.0)\n",
      "Requirement already satisfied: requests<3,>=2.27 in c:\\users\\lrb69\\anaconda3\\envs\\ainlp311stream\\lib\\site-packages (from streamlit) (2.32.5)\n",
      "Requirement already satisfied: tenacity<10,>=8.1.0 in c:\\users\\lrb69\\anaconda3\\envs\\ainlp311stream\\lib\\site-packages (from streamlit) (9.1.2)\n",
      "Requirement already satisfied: toml<2,>=0.10.1 in c:\\users\\lrb69\\anaconda3\\envs\\ainlp311stream\\lib\\site-packages (from streamlit) (0.10.2)\n",
      "Requirement already satisfied: typing-extensions<5,>=4.4.0 in c:\\users\\lrb69\\anaconda3\\envs\\ainlp311stream\\lib\\site-packages (from streamlit) (4.15.0)\n",
      "Requirement already satisfied: watchdog<7,>=2.1.5 in c:\\users\\lrb69\\anaconda3\\envs\\ainlp311stream\\lib\\site-packages (from streamlit) (6.0.0)\n",
      "Requirement already satisfied: gitpython!=3.1.19,<4,>=3.0.7 in c:\\users\\lrb69\\anaconda3\\envs\\ainlp311stream\\lib\\site-packages (from streamlit) (3.1.45)\n",
      "Requirement already satisfied: pydeck<1,>=0.8.0b4 in c:\\users\\lrb69\\anaconda3\\envs\\ainlp311stream\\lib\\site-packages (from streamlit) (0.9.1)\n",
      "Requirement already satisfied: tornado!=6.5.0,<7,>=6.0.3 in c:\\users\\lrb69\\anaconda3\\envs\\ainlp311stream\\lib\\site-packages (from streamlit) (6.5.1)\n",
      "Requirement already satisfied: jinja2 in c:\\users\\lrb69\\anaconda3\\envs\\ainlp311stream\\lib\\site-packages (from altair!=5.4.0,!=5.4.1,<6,>=4.0->streamlit) (3.1.6)\n",
      "Requirement already satisfied: jsonschema>=3.0 in c:\\users\\lrb69\\anaconda3\\envs\\ainlp311stream\\lib\\site-packages (from altair!=5.4.0,!=5.4.1,<6,>=4.0->streamlit) (4.25.0)\n",
      "Requirement already satisfied: narwhals>=1.14.2 in c:\\users\\lrb69\\anaconda3\\envs\\ainlp311stream\\lib\\site-packages (from altair!=5.4.0,!=5.4.1,<6,>=4.0->streamlit) (2.9.0)\n",
      "Requirement already satisfied: colorama in c:\\users\\lrb69\\anaconda3\\envs\\ainlp311stream\\lib\\site-packages (from click<9,>=7.0->streamlit) (0.4.6)\n",
      "Requirement already satisfied: gitdb<5,>=4.0.1 in c:\\users\\lrb69\\anaconda3\\envs\\ainlp311stream\\lib\\site-packages (from gitpython!=3.1.19,<4,>=3.0.7->streamlit) (4.0.12)\n",
      "Requirement already satisfied: smmap<6,>=3.0.1 in c:\\users\\lrb69\\anaconda3\\envs\\ainlp311stream\\lib\\site-packages (from gitdb<5,>=4.0.1->gitpython!=3.1.19,<4,>=3.0.7->streamlit) (5.0.2)\n",
      "Requirement already satisfied: python-dateutil>=2.8.2 in c:\\users\\lrb69\\anaconda3\\envs\\ainlp311stream\\lib\\site-packages (from pandas<3,>=1.4.0->streamlit) (2.9.0.post0)\n",
      "Requirement already satisfied: pytz>=2020.1 in c:\\users\\lrb69\\anaconda3\\envs\\ainlp311stream\\lib\\site-packages (from pandas<3,>=1.4.0->streamlit) (2025.2)\n",
      "Requirement already satisfied: tzdata>=2022.7 in c:\\users\\lrb69\\anaconda3\\envs\\ainlp311stream\\lib\\site-packages (from pandas<3,>=1.4.0->streamlit) (2025.2)\n",
      "Requirement already satisfied: charset_normalizer<4,>=2 in c:\\users\\lrb69\\anaconda3\\envs\\ainlp311stream\\lib\\site-packages (from requests<3,>=2.27->streamlit) (3.3.2)\n",
      "Requirement already satisfied: idna<4,>=2.5 in c:\\users\\lrb69\\anaconda3\\envs\\ainlp311stream\\lib\\site-packages (from requests<3,>=2.27->streamlit) (3.7)\n",
      "Requirement already satisfied: urllib3<3,>=1.21.1 in c:\\users\\lrb69\\anaconda3\\envs\\ainlp311stream\\lib\\site-packages (from requests<3,>=2.27->streamlit) (2.5.0)\n",
      "Requirement already satisfied: certifi>=2017.4.17 in c:\\users\\lrb69\\anaconda3\\envs\\ainlp311stream\\lib\\site-packages (from requests<3,>=2.27->streamlit) (2025.10.5)\n",
      "Requirement already satisfied: MarkupSafe>=2.0 in c:\\users\\lrb69\\anaconda3\\envs\\ainlp311stream\\lib\\site-packages (from jinja2->altair!=5.4.0,!=5.4.1,<6,>=4.0->streamlit) (3.0.2)\n",
      "Requirement already satisfied: attrs>=22.2.0 in c:\\users\\lrb69\\anaconda3\\envs\\ainlp311stream\\lib\\site-packages (from jsonschema>=3.0->altair!=5.4.0,!=5.4.1,<6,>=4.0->streamlit) (25.4.0)\n",
      "Requirement already satisfied: jsonschema-specifications>=2023.03.6 in c:\\users\\lrb69\\anaconda3\\envs\\ainlp311stream\\lib\\site-packages (from jsonschema>=3.0->altair!=5.4.0,!=5.4.1,<6,>=4.0->streamlit) (2023.7.1)\n",
      "Requirement already satisfied: referencing>=0.28.4 in c:\\users\\lrb69\\anaconda3\\envs\\ainlp311stream\\lib\\site-packages (from jsonschema>=3.0->altair!=5.4.0,!=5.4.1,<6,>=4.0->streamlit) (0.30.2)\n",
      "Requirement already satisfied: rpds-py>=0.7.1 in c:\\users\\lrb69\\anaconda3\\envs\\ainlp311stream\\lib\\site-packages (from jsonschema>=3.0->altair!=5.4.0,!=5.4.1,<6,>=4.0->streamlit) (0.22.3)\n",
      "Requirement already satisfied: six>=1.5 in c:\\users\\lrb69\\anaconda3\\envs\\ainlp311stream\\lib\\site-packages (from python-dateutil>=2.8.2->pandas<3,>=1.4.0->streamlit) (1.17.0)\n",
      "Streamlit version: 1.50.0\n"
     ]
    }
   ],
   "source": [
    "# If Streamlit isn't installed yet, run this in a terminal:\n",
    "! pip install streamlit\n",
    "\n",
    "try:\n",
    "    import streamlit as st\n",
    "    print(\"Streamlit version:\", st.__version__)\n",
    "except Exception:\n",
    "    print(\"Streamlit not installed yet. Run: pip install streamlit\")"
   ]
  },
  {
   "cell_type": "code",
   "execution_count": null,
   "id": "685bed2a",
   "metadata": {},
   "outputs": [
    {
     "name": "stdout",
     "output_type": "stream",
     "text": [
      "Wrote titanic_streamlit_app.py\n",
      "Run it in a cell with: ! streamlit run titanic_streamlit_app.py\n"
     ]
    }
   ],
   "source": [
    "titanic_app = \"\"\"import streamlit as st\n",
    "\n",
    "st.set_page_config(page_title=\"Explore Titantic dataset with Streamlit\", layout=\"wide\")\n",
    "\n",
    "st.title(\"Explore Titanic Dataset with Streamlit\")\n",
    "st.subheader(\"This Streamlit app explores the Titanic dataset to uncover survival insights and visualize passenger data\")\n",
    "\"\"\"\n",
    "with open(\"titanic_streamlit_app.py\", \"w\", encoding=\"utf-8\") as f:\n",
    "    f.write(titanic_app)\n",
    "print(\"Wrote titanic_streamlit_app.py\")\n",
    "print(\"Run it in a cell with: ! streamlit run titanic_streamlit_app.py\")"
   ]
  },
  {
   "cell_type": "code",
   "execution_count": 13,
   "id": "e9453821",
   "metadata": {},
   "outputs": [
    {
     "name": "stdout",
     "output_type": "stream",
     "text": [
      "^C\n"
     ]
    }
   ],
   "source": [
    "! streamlit run titanic_streamlit_app.py"
   ]
  }
 ],
 "metadata": {
  "kernelspec": {
   "display_name": "ainlp311stream",
   "language": "python",
   "name": "python3"
  },
  "language_info": {
   "codemirror_mode": {
    "name": "ipython",
    "version": 3
   },
   "file_extension": ".py",
   "mimetype": "text/x-python",
   "name": "python",
   "nbconvert_exporter": "python",
   "pygments_lexer": "ipython3",
   "version": "3.11.14"
  }
 },
 "nbformat": 4,
 "nbformat_minor": 5
}
